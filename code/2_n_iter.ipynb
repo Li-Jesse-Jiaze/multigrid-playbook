{
 "cells": [
  {
   "cell_type": "code",
   "execution_count": null,
   "id": "1a40b05f",
   "metadata": {},
   "outputs": [],
   "source": [
    "import matplotlib.pyplot as plt"
   ]
  },
  {
   "cell_type": "code",
   "execution_count": null,
   "id": "5a9610e0",
   "metadata": {},
   "outputs": [],
   "source": [
    "import matplotlib.pyplot as plt\n",
    "from matplotlib.ticker import ScalarFormatter\n",
    "\n",
    "n_k = [2, 3, 5, 9, 17, 33, 65, 129, 257, 513, 1025]\n",
    "m_k = [1, 1, 43, 188, 768, 3088, 12373, 49520, 198122, 792553, 3170329]\n",
    "\n",
    "plt.plot(n_k, m_k, 'o-', c='orange')\n",
    "plt.xlabel(r'$n$')\n",
    "plt.ylabel(r'#iteration')\n",
    "\n",
    "# 设置 y 轴不使用科学计数法\n",
    "plt.gca().yaxis.set_major_formatter(ScalarFormatter(useMathText=True))\n",
    "plt.ticklabel_format(style='plain', axis='y')  # 禁用科学计数法\n",
    "\n",
    "plt.tight_layout()\n",
    "plt.savefig(\"../slides/fig/n_iter.svg\")\n"
   ]
  },
  {
   "cell_type": "code",
   "execution_count": null,
   "id": "66114026",
   "metadata": {},
   "outputs": [],
   "source": []
  }
 ],
 "metadata": {
  "kernelspec": {
   "display_name": ".venv",
   "language": "python",
   "name": "python3"
  },
  "language_info": {
   "codemirror_mode": {
    "name": "ipython",
    "version": 3
   },
   "file_extension": ".py",
   "mimetype": "text/x-python",
   "name": "python",
   "nbconvert_exporter": "python",
   "pygments_lexer": "ipython3",
   "version": "3.13.0"
  }
 },
 "nbformat": 4,
 "nbformat_minor": 5
}
