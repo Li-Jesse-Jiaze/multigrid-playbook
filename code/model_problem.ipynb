{
 "cells": [
  {
   "cell_type": "code",
   "execution_count": null,
   "id": "df946b8e",
   "metadata": {},
   "outputs": [],
   "source": [
    "import numpy as np\n",
    "import scipy as sp\n",
    "import scipy.sparse as sparse\n",
    "import matplotlib.pyplot as plt\n",
    "# plt.style.use('seaborn-talk')\n",
    "%matplotlib inline"
   ]
  },
  {
   "cell_type": "code",
   "execution_count": null,
   "id": "5de85b60",
   "metadata": {},
   "outputs": [],
   "source": [
    "n = 64\n",
    "A = sparse.diags([-1, 2, -1], [-1, 0, 1], shape=(n,n), format='csr')"
   ]
  },
  {
   "cell_type": "code",
   "execution_count": null,
   "id": "3a23156a",
   "metadata": {},
   "outputs": [],
   "source": [
    "# eigenvalues and eigenvectors\n",
    "evals, evecs = np.linalg.eig(A.toarray())\n",
    "\n",
    "# sort eigenvalues\n",
    "eid = np.argsort(evals)\n",
    "evals = evals[eid]\n",
    "evecs = evecs[:,eid]"
   ]
  },
  {
   "cell_type": "code",
   "execution_count": null,
   "id": "70eb0811",
   "metadata": {},
   "outputs": [],
   "source": [
    "# x = np.linspace(0,1,n+2)[1:-1]\n",
    "x = np.arange(1, n+1,)\n",
    "\n",
    "z_evals = 4 * np.sin(np.arange(1,n+1)*np.pi / (2*(n+1)))**2\n",
    "z_evecs = np.zeros((n,n))\n",
    "for k in range(1,n):\n",
    "    z_evecs[:,k-1] = np.sin(np.arange(1,n+1) * k * np.pi / (n+1))\n",
    "    \n",
    "    # also, give unit-L2 norm in length\n",
    "    z_evecs[:,k-1] = z_evecs[:,k-1] / np.linalg.norm(z_evecs[:,k-1])"
   ]
  },
  {
   "cell_type": "code",
   "execution_count": null,
   "id": "54ad231f",
   "metadata": {},
   "outputs": [],
   "source": [
    "plt.figure(figsize=(4, 5))\n",
    "plt.subplot(2, 1, 1)\n",
    "plt.plot(x,evecs[:,3], 'o-', color='tab:green', ms=5)\n",
    "plt.title(\"$k = 4$\")\n",
    "plt.subplot(2, 1, 2)\n",
    "plt.plot(x,evecs[:,50], 'o-', color='tab:orange', ms=5)\n",
    "plt.title(\"$k = 51$\")\n",
    "plt.tight_layout()\n",
    "plt.savefig(\"../slides/fig/model_eigen.svg\")"
   ]
  },
  {
   "cell_type": "code",
   "execution_count": null,
   "id": "6e2d5582",
   "metadata": {},
   "outputs": [],
   "source": []
  }
 ],
 "metadata": {
  "kernelspec": {
   "display_name": ".venv",
   "language": "python",
   "name": "python3"
  },
  "language_info": {
   "codemirror_mode": {
    "name": "ipython",
    "version": 3
   },
   "file_extension": ".py",
   "mimetype": "text/x-python",
   "name": "python",
   "nbconvert_exporter": "python",
   "pygments_lexer": "ipython3",
   "version": "3.13.0"
  }
 },
 "nbformat": 4,
 "nbformat_minor": 5
}
