{
 "cells": [
  {
   "cell_type": "code",
   "execution_count": null,
   "id": "26ad2e64",
   "metadata": {},
   "outputs": [],
   "source": [
    "import numpy as np\n",
    "import scipy as sp\n",
    "import scipy.sparse as sparse\n",
    "import matplotlib.pyplot as plt"
   ]
  },
  {
   "cell_type": "markdown",
   "id": "3335ff2b",
   "metadata": {},
   "source": [
    "Create a small 8x8 matrix\n",
    "$$\n",
    "A = \n",
    "\\left[\n",
    "\\begin{array}{r r r r r}\n",
    "2 & -1 &  & & \\\\\n",
    "-1 & 2 & -1 & & \\\\\n",
    "   & -1 & 2 & -1 & \\\\\n",
    "& & \\ddots & & \\\\\n",
    "& & & -1 & 2\n",
    "\\end{array}\n",
    "\\right]\n",
    "$$"
   ]
  },
  {
   "cell_type": "code",
   "execution_count": null,
   "id": "f81d68d2",
   "metadata": {},
   "outputs": [],
   "source": [
    "n = 8\n",
    "A = sparse.diags([-1, 2, -1], [-1, 0, 1], shape=(n,n), format='csr')\n",
    "b = np.zeros((n,))\n",
    "\n",
    "I = sparse.eye(n, format='csr')\n",
    "Dinv = 0.5 * I\n",
    "D = 2 * I\n",
    "E = -sparse.tril(A, -1)"
   ]
  },
  {
   "cell_type": "markdown",
   "id": "89ba4811",
   "metadata": {},
   "source": [
    "Try different mode."
   ]
  },
  {
   "cell_type": "code",
   "execution_count": null,
   "id": "3060e3f1",
   "metadata": {},
   "outputs": [],
   "source": [
    "plt.figure(figsize=(5, 6))\n",
    "plt.subplot(3, 1, 1)\n",
    "\n",
    "x = np.linspace(0,1,n+2)[1:-1]\n",
    "eold = np.sin(np.pi * x)\n",
    "enew = (I - Dinv * A) * eold\n",
    "plt.plot(x, eold, 'o-', color='orange', ms=5)\n",
    "plt.plot(x, enew, 'o-', c='g', ms=5)\n",
    "plt.plot([x[2], x[4]], [eold[2], eold[4]], '--', color='gray', alpha=.5)\n",
    "\n",
    "plt.subplot(3, 1, 2)\n",
    "\n",
    "x = np.linspace(0,1,n+2)[1:-1]\n",
    "eold = np.sin(np.pi * x)\n",
    "eold[3] = 1.2\n",
    "enew = (I - Dinv * A) * eold\n",
    "plt.plot(x, eold, 'o-', color='orange', ms=5)\n",
    "plt.plot(x, enew, 'o-', c='g', ms=5)\n",
    "plt.plot([x[2], x[4]], [eold[2], eold[4]], '--', color='gray', alpha=.5)\n",
    "\n",
    "plt.subplot(3, 1, 3)\n",
    "\n",
    "x = np.linspace(0,1,n+2)[1:-1]\n",
    "eold = np.ones(n)\n",
    "eold[1::2] = -0\n",
    "enew = (I - Dinv * A) * eold\n",
    "plt.plot(x, eold, 'o-', color='orange', ms=5)\n",
    "plt.plot(x, enew, 'o-', c='g', ms=5)\n",
    "plt.plot([x[2], x[4]], [eold[2], eold[4]], '--', color='gray', alpha=.5)\n",
    "\n",
    "plt.tight_layout()\n",
    "# plt.savefig(\"../slides/fig/avg.svg\")\n",
    "# plt.xlabel(r'$x$')"
   ]
  },
  {
   "cell_type": "code",
   "execution_count": null,
   "id": "5136d9d9",
   "metadata": {},
   "outputs": [],
   "source": [
    "n = 64\n",
    "A = sparse.diags([-1, 2, -1], [-1, 0, 1], shape=(n,n), format='csr')\n",
    "b = np.zeros((n,))\n",
    "x = np.linspace(0,1,n+2)[1:-1]\n",
    "I = sparse.eye(n, format='csr')\n",
    "Dinv = 0.5 * I\n",
    "D = 2 * I\n",
    "E = -sparse.tril(A, -1)"
   ]
  },
  {
   "cell_type": "markdown",
   "id": "acbce1e4",
   "metadata": {},
   "source": [
    "$$\n",
    "u \\leftarrow u + \\omega D^{-1}r\n",
    "$$\n",
    "if $b=0$, then $r = - A u$\n",
    "\n",
    "Try $\\omega= 1$"
   ]
  },
  {
   "cell_type": "code",
   "execution_count": null,
   "id": "7009cbd3",
   "metadata": {},
   "outputs": [],
   "source": [
    "rnorm = []\n",
    "\n",
    "test = 'random'\n",
    "\n",
    "if test == 'random':\n",
    "    np.random.seed(233008)\n",
    "    u = np.random.rand(n)\n",
    "elif test == 'smooth':\n",
    "    n = A.shape[0]\n",
    "    u = np.sin(np.pi * np.arange(1, n+1)/ (n+1))\n",
    "    \n",
    "uinit = u.copy()\n",
    "\n",
    "for i in range(10):\n",
    "    u[:] = u - 1.0 * Dinv * A * u\n",
    "    #u[:] = u - sla.(D-E, A*u)\n",
    "    rnorm.append(np.linalg.norm(A * u))\n",
    "\n",
    "plt.plot(x, uinit, '-')\n",
    "plt.plot(x, u, '-')\n",
    "plt.tight_layout()\n",
    "# plt.savefig(\"../slides/fig/wj1.svg\")\n",
    "# plt.xlabel(r'$x$')"
   ]
  },
  {
   "cell_type": "markdown",
   "id": "cb321c6a",
   "metadata": {},
   "source": [
    "Try $\\omega= 2/3$"
   ]
  },
  {
   "cell_type": "code",
   "execution_count": null,
   "id": "a76c1aaa",
   "metadata": {},
   "outputs": [],
   "source": [
    "rnorm = []\n",
    "\n",
    "test = 'random'\n",
    "\n",
    "if test == 'random':\n",
    "    np.random.seed(233008)\n",
    "    u = np.random.rand(n)\n",
    "elif test == 'smooth':\n",
    "    n = A.shape[0]\n",
    "    u = np.sin(np.pi * np.arange(1, n+1)/ (n+1))\n",
    "    \n",
    "uinit = u.copy()\n",
    "\n",
    "for i in range(10):\n",
    "    u[:] = u - 2/3 * Dinv * A * u\n",
    "    #u[:] = u - sla.(D-E, A*u)\n",
    "    rnorm.append(np.linalg.norm(A * u))\n",
    "\n",
    "plt.plot(x, uinit, '-')\n",
    "plt.plot(x, u, '-')\n",
    "plt.tight_layout()\n",
    "# plt.savefig(\"../slides/fig/wj1.svg\")\n",
    "# plt.xlabel(r'$x$')"
   ]
  },
  {
   "cell_type": "markdown",
   "id": "c5a54c80",
   "metadata": {},
   "source": [
    "Let's observe the spectrum of\n",
    "$$\n",
    "G = I - \\omega D^{-1} A\n",
    "$$\n",
    "for several $\\omega$"
   ]
  },
  {
   "cell_type": "code",
   "execution_count": null,
   "id": "ac865d07",
   "metadata": {},
   "outputs": [],
   "source": [
    "import matplotlib.patches as patches"
   ]
  },
  {
   "cell_type": "code",
   "execution_count": null,
   "id": "0312c1dd",
   "metadata": {},
   "outputs": [],
   "source": [
    "fig, ax = plt.subplots()\n",
    "\n",
    "K = np.arange(1,n)\n",
    "\n",
    "omega = 1.0 /2\n",
    "lmbda = 1 - (omega / 2) * 4.0 * np.sin(np.pi * K / (2*(n+1)))**2\n",
    "plt.plot(lmbda,'-k',label='residual',linewidth=4, clip_on=False)\n",
    "plt.text(n+2, lmbda[-1], r'$\\omega=1/2$')\n",
    "\n",
    "omega = 1.0 / 3.0\n",
    "lmbda = 1 - (omega / 2) * 4.0 * np.sin(np.pi * K / (2*(n+1)))**2\n",
    "plt.plot(lmbda,'-k',label='residual',linewidth=4, clip_on=False)\n",
    "plt.text(n+2, lmbda[-1], r'$\\omega=1/3$')\n",
    "\n",
    "omega = 2.0 / 3.0\n",
    "lmbda = 1 - (omega / 2) * 4.0 * np.sin(np.pi * K / (2*(n+1)))**2\n",
    "plt.plot(lmbda,'-k',label='residual',linewidth=4, clip_on=False)\n",
    "plt.text(n+2, lmbda[-1], r'$\\omega=2/3$')\n",
    "\n",
    "omega = 1\n",
    "lmbda = 1 - (omega / 2) * 4.0 * np.sin(np.pi * K/ (2*(n+1)))**2\n",
    "plt.plot(lmbda,'-k',label='residual',linewidth=4, clip_on=False)\n",
    "plt.text(n+2, lmbda[-1], r'$\\omega=1$')\n",
    "\n",
    "plt.plot([0, n], [0, 0], '--g')\n",
    "plt.axis([0,n,-1,1])\n",
    "\n",
    "x0, y0   = 32, -1/3\n",
    "width    = 32\n",
    "height   = 2/3\n",
    "\n",
    "rect = patches.Rectangle(\n",
    "    (x0, y0), width, height,\n",
    "    facecolor='orange',\n",
    "    edgecolor='none',\n",
    "    alpha=0.3,\n",
    "    zorder=0\n",
    ")\n",
    "\n",
    "ax.add_patch(rect)\n",
    "\n",
    "\n",
    "plt.ylabel(r'$\\lambda_k(\\omega)$', rotation=0, labelpad=10)\n",
    "plt.xlabel(r'$k$')\n",
    "plt.tight_layout()\n",
    "# plt.savefig(\"../slides/fig/omega_eigen.svg\")"
   ]
  },
  {
   "cell_type": "code",
   "execution_count": null,
   "id": "b8e916e6",
   "metadata": {},
   "outputs": [],
   "source": []
  }
 ],
 "metadata": {
  "kernelspec": {
   "display_name": ".venv",
   "language": "python",
   "name": "python3"
  },
  "language_info": {
   "codemirror_mode": {
    "name": "ipython",
    "version": 3
   },
   "file_extension": ".py",
   "mimetype": "text/x-python",
   "name": "python",
   "nbconvert_exporter": "python",
   "pygments_lexer": "ipython3",
   "version": "3.13.0"
  }
 },
 "nbformat": 4,
 "nbformat_minor": 5
}
