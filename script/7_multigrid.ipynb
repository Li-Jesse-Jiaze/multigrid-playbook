{
 "cells": [
  {
   "cell_type": "code",
   "execution_count": 2,
   "id": "27492852",
   "metadata": {},
   "outputs": [],
   "source": [
    "import scipy as sp\n",
    "import numpy as np\n",
    "import scipy.sparse as sparse\n",
    "import scipy.sparse.linalg as sla\n",
    "import matplotlib.pyplot as plt"
   ]
  },
  {
   "cell_type": "code",
   "execution_count": 3,
   "id": "bfdda091",
   "metadata": {},
   "outputs": [],
   "source": [
    "def hnorm(r):\n",
    "    \"\"\"define ||r||_h = h ||r||_2\"\"\"\n",
    "    n = len(r)\n",
    "    h = 1.0 / (n+1)\n",
    "    hrnorm = h * np.linalg.norm(r)\n",
    "    return hrnorm\n",
    "\n",
    "def poissonopmatrix(n):\n",
    "    A = (n+1)**2 * sparse.diags([-1, 2, -1], [-1, 0, 1], shape=(n,n), format='csr')\n",
    "    return A\n",
    "\n",
    "def poissonop(u):\n",
    "    \"\"\"\n",
    "    Poisson operator h^{-2} * [-1 2 1]\n",
    "    Action of A * u\n",
    "    \"\"\"\n",
    "    n = len(u)\n",
    "    v = np.zeros(len(u))\n",
    "    v[1:-1] = ((n+1)**2) * (2 * u[1:-1] - u[2:] - u[:-2])\n",
    "    v[0]    = ((n+1)**2) * (2 * u[0]    - u[1])\n",
    "    v[-1]   = ((n+1)**2) * (2 * u[-1]   - u[-2])\n",
    "    return v\n",
    "\n",
    "def residual(u, f):\n",
    "    \"\"\"\n",
    "    f - A u\n",
    "    \"\"\"\n",
    "    n = len(f)\n",
    "    r = np.zeros(len(u))\n",
    "    r[1:-1] = f[1:-1] - ((n+1)**2) * (2 * u[1:-1] - u[2:] - u[:-2])\n",
    "    r[0]    = f[0]    - ((n+1)**2) * (2 * u[0]    - u[1])\n",
    "    r[-1]   = f[-1]   - ((n+1)**2) * (2 * u[-1]   - u[-2])\n",
    "    return r\n",
    "\n",
    "def relax(u, f, nu):\n",
    "    \"\"\"\n",
    "    Weighted Jacobi\n",
    "    \"\"\"\n",
    "    n = len(u)\n",
    "    Dinv = 1.0 / (2.0 * ((n+1)**2))\n",
    "    omega = 2.0 / 3.0\n",
    "    unew = u.copy()\n",
    "    \n",
    "    for steps in range(nu):\n",
    "        unew = unew + omega * Dinv * residual(unew, f)\n",
    "    \n",
    "    return unew\n",
    "\n",
    "def interpolate(uc):\n",
    "    \"\"\"interpolate u of size 2**(k-1)-1 to 2**(k)-1\"\"\"\n",
    "    uf = np.zeros((2*len(uc) + 1,))\n",
    "    uf[:-1:2] = 0.5 * uc\n",
    "    uf[1::2] = uc\n",
    "    uf[2::2] += 0.5 * uc\n",
    "    return uf\n",
    "\n",
    "def restrict(uf):\n",
    "    \"\"\"restrict u of size 2**(k)-1 to 2**(k-1)-1\"\"\"\n",
    "    uc = 0.25 * uf[:-1:2] + 0.5 * uf[1::2] + 0.25 * uf[2::2]\n",
    "    return uc"
   ]
  },
  {
   "cell_type": "code",
   "execution_count": 4,
   "id": "c7ba6560",
   "metadata": {},
   "outputs": [],
   "source": [
    "def vcycle2(u0, f0, nu):\n",
    "    u0 = relax(u0, f0, nu)\n",
    "    f1 = restrict(residual(u0, f0))\n",
    "    u1 = sla.spsolve(poissonopmatrix(len(f1)), f1)    \n",
    "    ui = interpolate(u1)\n",
    "    u0 = u0 + ui\n",
    "    u0 = relax(u0, f0, nu)\n",
    "    return u0"
   ]
  },
  {
   "cell_type": "code",
   "execution_count": 5,
   "id": "185a417e",
   "metadata": {},
   "outputs": [],
   "source": [
    "def vcycle3(u, f, nu):\n",
    "    f0 = f.copy()\n",
    "    u0 = u.copy()\n",
    "    \n",
    "    u0 = relax(u0, f0, nu)\n",
    "    f1 = restrict(residual(u0, f0))\n",
    "    \n",
    "    u1 = relax(np.zeros(len(f1)), f1, nu)\n",
    "    f2 = restrict(residual(u1, f1))\n",
    "    \n",
    "    A2 = poissonopmatrix(len(f2))\n",
    "    u2 = sla.spsolve(A2, f2)\n",
    "    \n",
    "    u1 += interpolate(u2)\n",
    "    u1 = relax(u1, f1, 1)\n",
    "    \n",
    "    u0 += interpolate(u1)\n",
    "    u0 = relax(u0, f0, 1)\n",
    "    return u0"
   ]
  },
  {
   "cell_type": "code",
   "execution_count": 6,
   "id": "541cdf60",
   "metadata": {},
   "outputs": [],
   "source": [
    "def vcycle(kmax, kmin, u, f, nu):\n",
    "    \"\"\"\n",
    "    kmax : size of the fine grid 2**kmax -1\n",
    "    kmin : size of the coarse grid 2**kmin - 1\n",
    "    \"\"\"\n",
    "    ulist = [None for k in range(kmax+1)]\n",
    "    flist = [None for k in range(kmax+1)]\n",
    "    \n",
    "    # down cycle\n",
    "    for k in range(kmax, kmin, -1):\n",
    "        u = relax(u, f, nu)\n",
    "        ulist[k] = u\n",
    "        flist[k] = f\n",
    "        \n",
    "        f = restrict(residual(u, f))\n",
    "        u = np.zeros(f.shape)\n",
    "        ulist[k-1] = u\n",
    "        flist[k-1] = f\n",
    "\n",
    "    # coarsest grid\n",
    "    Ac = poissonopmatrix(2**kmin - 1)\n",
    "    flist[kmin] = f\n",
    "    ulist[kmin] = sla.spsolve(Ac, f)\n",
    "\n",
    "    # up cycle\n",
    "    for k in range(kmin+1, kmax+1, 1):\n",
    "        u = ulist[k]\n",
    "        f = flist[k]\n",
    "        uc = ulist[k-1]\n",
    "        u += interpolate(uc)\n",
    "        u = relax(u, f, nu)\n",
    "    return u"
   ]
  },
  {
   "cell_type": "markdown",
   "id": "872605a2",
   "metadata": {},
   "source": [
    "## Set up a problem\n",
    "\n",
    "Here we will set up a problem on $\\Omega = [0,1]$.\n",
    "$$\n",
    "f = 2 - 12 x^2\\\\\n",
    "u^* = x^4 - x^2\n",
    "$$\n",
    "where $u^*$ will solve the problem\n",
    "$$\n",
    "-u'' = f\n",
    "$$\n",
    "In addition, from the matrix problem $A u = f$, we define\n",
    "$$\n",
    "u^*_d = A^{-1} f\n",
    "$$"
   ]
  },
  {
   "cell_type": "code",
   "execution_count": 7,
   "id": "a3c616cb",
   "metadata": {},
   "outputs": [
    {
     "name": "stdout",
     "output_type": "stream",
     "text": [
      "discretization error:  3.1518404129513896e-05\n"
     ]
    }
   ],
   "source": [
    "kmax = 5\n",
    "kmin = 2\n",
    "\n",
    "# set up fine problem\n",
    "n = 2**kmax - 1\n",
    "\n",
    "xx = np.linspace(0, 1, n+2)[1:-1]\n",
    "\n",
    "f = 2 - 12 * xx**2\n",
    "\n",
    "ustar = xx**4 - xx**2\n",
    "A = poissonopmatrix(len(f))\n",
    "udstar = sla.spsolve(A, f)\n",
    "print(\"discretization error: \", hnorm(ustar - udstar))"
   ]
  },
  {
   "cell_type": "markdown",
   "id": "86e328d9",
   "metadata": {},
   "source": [
    "## Things to measure\n",
    "\n",
    "We'll measure four things in this test:\n",
    "1. The residual\n",
    "$$\n",
    "r_k = f - A u_k\n",
    "$$\n",
    "2. The discretization error\n",
    "$$\n",
    "e = u^* - u_d^*\n",
    "$$\n",
    "3. The total error\n",
    "$$\n",
    "e = u^* - u_k\n",
    "$$\n",
    "4. The algebraic error\n",
    "$$\n",
    "e = u^*_d - u_k\n",
    "$$"
   ]
  },
  {
   "cell_type": "code",
   "execution_count": 8,
   "id": "972a23a3",
   "metadata": {},
   "outputs": [
    {
     "name": "stdout",
     "output_type": "stream",
     "text": [
      "res = 8.8259e+00, total err = 1.0974e-02  alg err = 1.0960e-02\n",
      "res = 1.1250e+00, total err = 2.2677e-03  alg err = 2.2688e-03\n",
      "res = 2.6301e-01, total err = 5.8306e-04  alg err = 5.8465e-04\n",
      "res = 7.1241e-02, total err = 1.5790e-04  alg err = 1.5686e-04\n",
      "res = 1.9206e-02, total err = 5.1931e-05  alg err = 4.3179e-05\n",
      "res = 5.1516e-03, total err = 3.3181e-05  alg err = 1.2170e-05\n",
      "res = 1.3916e-03, total err = 3.1551e-05  alg err = 3.5187e-06\n",
      "res = 3.8208e-04, total err = 3.1494e-05  alg err = 1.0453e-06\n",
      "res = 1.0730e-04, total err = 3.1509e-05  alg err = 3.1881e-07\n",
      "res = 3.0945e-05, total err = 3.1516e-05  alg err = 9.9546e-08\n",
      "res = 9.1805e-06, total err = 3.1518e-05  alg err = 3.1690e-08\n",
      "res = 2.7995e-06, total err = 3.1518e-05  alg err = 1.0240e-08\n",
      "res = 8.7468e-07, total err = 3.1518e-05  alg err = 3.3453e-09\n",
      "res = 2.7876e-07, total err = 3.1518e-05  alg err = 1.1013e-09\n",
      "res = 9.0192e-08, total err = 3.1518e-05  alg err = 3.6447e-10\n",
      "res = 2.9499e-08, total err = 3.1518e-05  alg err = 1.2105e-10\n",
      "res = 9.7213e-09, total err = 3.1518e-05  alg err = 4.0296e-11\n",
      "res = 3.2198e-09, total err = 3.1518e-05  alg err = 1.3435e-11\n",
      "res = 1.0700e-09, total err = 3.1518e-05  alg err = 4.4840e-12\n",
      "res = 3.5636e-10, total err = 3.1518e-05  alg err = 1.4975e-12\n"
     ]
    }
   ],
   "source": [
    "u = np.random.rand(len(f))\n",
    "\n",
    "# set up smoothing sweeps\n",
    "nu = 1\n",
    "\n",
    "res = []\n",
    "err = []\n",
    "aerr = []\n",
    "\n",
    "res.append(hnorm(residual(u, f)))\n",
    "for i in range(20):\n",
    "    u = vcycle(kmax, kmin, u, f, nu)\n",
    "    res.append(hnorm(residual(u, f)))\n",
    "    err.append(hnorm(u - ustar))\n",
    "    aerr.append(hnorm(udstar - u))\n",
    "    print(\"res = %10.4e, total err = %10.4e  alg err = %10.4e\" % (res[-1], err[-1], aerr[-1]))"
   ]
  },
  {
   "cell_type": "code",
   "execution_count": 13,
   "id": "1fca1b0f",
   "metadata": {},
   "outputs": [
    {
     "data": {
      "image/png": "[encoded data removed]",
      "text/plain": [
       "<Figure size 640x480 with 1 Axes>"
      ]
     },
     "metadata": {},
     "output_type": "display_data"
    }
   ],
   "source": [
    "plt.semilogy(res, lw=3, label=r'$r$')\n",
    "plt.semilogy(err, lw=3, label=r'$e$')\n",
    "de = hnorm(ustar - udstar)\n",
    "plt.semilogy([de for i in range(len(err))],':', lw=3, label=r'$u^*-u_h^*$')\n",
    "plt.legend(fontsize=15)\n",
    "plt.savefig('../slides/fig/de.svg')"
   ]
  },
  {
   "cell_type": "code",
   "execution_count": null,
   "id": "3d75c8d5",
   "metadata": {},
   "outputs": [],
   "source": []
  }
 ],
 "metadata": {
  "kernelspec": {
   "display_name": ".venv",
   "language": "python",
   "name": "python3"
  },
  "language_info": {
   "codemirror_mode": {
    "name": "ipython",
    "version": 3
   },
   "file_extension": ".py",
   "mimetype": "text/x-python",
   "name": "python",
   "nbconvert_exporter": "python",
   "pygments_lexer": "ipython3",
   "version": "3.13.0"
  }
 },
 "nbformat": 4,
 "nbformat_minor": 5
}
