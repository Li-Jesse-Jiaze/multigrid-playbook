{
 "cells": [
  {
   "cell_type": "code",
   "execution_count": null,
   "id": "df946b8e",
   "metadata": {},
   "outputs": [],
   "source": [
    "import numpy as np\n",
    "import scipy as sp\n",
    "import scipy.sparse as sparse\n",
    "import matplotlib.pyplot as plt"
   ]
  },
  {
   "cell_type": "markdown",
   "id": "0d4f5ba7",
   "metadata": {},
   "source": [
    "Let's set up a matrix\n",
    "$$\n",
    "A = \n",
    "\\left[\n",
    "\\begin{array}{r r r r r}\n",
    "2 & -1 &  & & \\\\\n",
    "-1 & 2 & -1 & & \\\\\n",
    "   & -1 & 2 & -1 & \\\\\n",
    "& & \\ddots & & \\\\\n",
    "& & & -1 & 2\n",
    "\\end{array}\n",
    "\\right]\n",
    "$$"
   ]
  },
  {
   "cell_type": "code",
   "execution_count": null,
   "id": "5de85b60",
   "metadata": {},
   "outputs": [],
   "source": [
    "n = 64\n",
    "A = sparse.diags([-1, 2, -1], [-1, 0, 1], shape=(n,n), format='csr')"
   ]
  },
  {
   "cell_type": "markdown",
   "id": "27f8dbae",
   "metadata": {},
   "source": [
    "Then look at the (sorted) eigenvalues and eigenvectors of $A$."
   ]
  },
  {
   "cell_type": "code",
   "execution_count": null,
   "id": "3a23156a",
   "metadata": {},
   "outputs": [],
   "source": [
    "# eigenvalues and eigenvectors\n",
    "evals, evecs = np.linalg.eig(A.toarray())\n",
    "\n",
    "# sort eigenvalues\n",
    "eid = np.argsort(evals)\n",
    "evals = evals[eid]\n",
    "evecs = evecs[:,eid]"
   ]
  },
  {
   "cell_type": "markdown",
   "id": "6f6c4804",
   "metadata": {},
   "source": [
    "Since we are solving the interior problem on an $n$ point mesh, we'll use $n+2$ points for the grid and take the $n$ interior points for plotting.\n",
    "\n",
    "The boundary conditions are $u(0)=u(1)=0$. Alternatively we can plot zero at the ends."
   ]
  },
  {
   "cell_type": "code",
   "execution_count": null,
   "id": "70eb0811",
   "metadata": {},
   "outputs": [],
   "source": [
    "# x = np.linspace(0,1,n+2)[1:-1]\n",
    "x = np.arange(1, n+1,)\n",
    "\n",
    "z_evals = 4 * np.sin(np.arange(1,n+1)*np.pi / (2*(n+1)))**2\n",
    "z_evecs = np.zeros((n,n))\n",
    "for k in range(1,n):\n",
    "    z_evecs[:,k-1] = np.sin(np.arange(1,n+1) * k * np.pi / (n+1))\n",
    "    \n",
    "    # also, give unit-L2 norm in length\n",
    "    z_evecs[:,k-1] = z_evecs[:,k-1] / np.linalg.norm(z_evecs[:,k-1])"
   ]
  },
  {
   "cell_type": "markdown",
   "id": "69f35580",
   "metadata": {},
   "source": [
    "Notice the smaller eigenvalues correspond to the Fourier modes.\n",
    "\n",
    "For $n$ points, on a grid from 0 to $n+1$, we have\n",
    "$$\n",
    "\\lambda_k = 4 \\sin^{2} \\left(\\frac{k \\pi}{2(n+1)}\\right)\n",
    "$$\n",
    "where $k=1,\\dots,n$, and the $j^{th}$ point of the eigenvector given by (zero based: $j=0,\\dots,n-1$)\n",
    "$$\n",
    "(v_k)_j = \\sin\\left(\\frac{(j+1)*k\\pi}{n+1}\\right)\n",
    "$$"
   ]
  },
  {
   "cell_type": "code",
   "execution_count": null,
   "id": "54ad231f",
   "metadata": {},
   "outputs": [],
   "source": [
    "plt.figure(figsize=(4, 5))\n",
    "plt.subplot(2, 1, 1)\n",
    "plt.plot(x,evecs[:,3], 'o-', color='tab:green', ms=5)\n",
    "plt.title(\"$k = 4$\")\n",
    "plt.subplot(2, 1, 2)\n",
    "plt.plot(x,evecs[:,50], 'o-', color='tab:orange', ms=5)\n",
    "plt.title(\"$k = 51$\")\n",
    "plt.tight_layout()\n",
    "# plt.savefig(\"../slides/fig/model_eigen.svg\")"
   ]
  },
  {
   "cell_type": "code",
   "execution_count": null,
   "id": "6e2d5582",
   "metadata": {},
   "outputs": [],
   "source": []
  }
 ],
 "metadata": {
  "kernelspec": {
   "display_name": ".venv",
   "language": "python",
   "name": "python3"
  },
  "language_info": {
   "codemirror_mode": {
    "name": "ipython",
    "version": 3
   },
   "file_extension": ".py",
   "mimetype": "text/x-python",
   "name": "python",
   "nbconvert_exporter": "python",
   "pygments_lexer": "ipython3",
   "version": "3.13.0"
  }
 },
 "nbformat": 4,
 "nbformat_minor": 5
}
