{
 "cells": [
  {
   "cell_type": "code",
   "execution_count": null,
   "id": "1653b70d",
   "metadata": {},
   "outputs": [],
   "source": [
    "import numpy as np\n",
    "import scipy as sp\n",
    "import scipy.sparse as sparse\n",
    "import matplotlib.pyplot as plt"
   ]
  },
  {
   "cell_type": "markdown",
   "id": "b953a437",
   "metadata": {},
   "source": [
    "Let's consider two sine modes, one sampled on a fine space\n",
    "$$\n",
    "\\sin(k \\pi x_f)\n",
    "$$\n",
    "and one sampled on a coarse space\n",
    "$$\n",
    "\\sin(k \\pi x_c)\n",
    "$$"
   ]
  },
  {
   "cell_type": "code",
   "execution_count": null,
   "id": "bd7c91d2",
   "metadata": {},
   "outputs": [],
   "source": [
    "m = 4\n",
    "k = 4\n",
    "\n",
    "nf = 2**m + 1\n",
    "xf = np.linspace(0,1,nf)\n",
    "yf = np.sin(k * np.pi * xf)\n",
    "\n",
    "nc = 2**(m-1) + 1\n",
    "xc = np.linspace(0,1,nc)\n",
    "yc = np.sin(k * np.pi * xc)"
   ]
  },
  {
   "cell_type": "code",
   "execution_count": null,
   "id": "1bfb86c2",
   "metadata": {},
   "outputs": [],
   "source": [
    "plt.figure(figsize=(15, 5))\n",
    "plt.subplot(1, 2, 1)\n",
    "plt.plot(xf, yf, '-s', color='k', lw=3, clip_on=False, label='fine')\n",
    "plt.plot(xf, 0*xf, '-s', color='gray', ms=5)\n",
    "plt.axis(\"off\")\n",
    "\n",
    "plt.title(\"4-mode of 15\")\n",
    "plt.subplot(1, 2, 2)\n",
    "plt.plot(xc, yc, '-s', color='k', lw=3, clip_on=False, label='coarse')\n",
    "plt.plot(xc, 0*xc, '-s', color='gray', ms=5)\n",
    "plt.axis(\"off\")\n",
    "\n",
    "plt.title(\"4-mode of 7\")\n",
    "# plt.legend()\n",
    "plt.tight_layout()\n",
    "\n",
    "# plt.savefig(\"../slides/fig/coarse_grid.svg\")\n"
   ]
  },
  {
   "cell_type": "code",
   "execution_count": null,
   "id": "773ca74e",
   "metadata": {},
   "outputs": [],
   "source": []
  }
 ],
 "metadata": {
  "kernelspec": {
   "display_name": ".venv",
   "language": "python",
   "name": "python3"
  },
  "language_info": {
   "codemirror_mode": {
    "name": "ipython",
    "version": 3
   },
   "file_extension": ".py",
   "mimetype": "text/x-python",
   "name": "python",
   "nbconvert_exporter": "python",
   "pygments_lexer": "ipython3",
   "version": "3.13.0"
  }
 },
 "nbformat": 4,
 "nbformat_minor": 5
}
